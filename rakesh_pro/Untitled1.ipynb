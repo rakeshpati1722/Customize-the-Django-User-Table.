{
 "cells": [
  {
   "cell_type": "code",
   "execution_count": 6,
   "metadata": {},
   "outputs": [
    {
     "name": "stdout",
     "output_type": "stream",
     "text": [
      "starttls() got an unexpected keyword argument 'context'\n"
     ]
    }
   ],
   "source": [
    "import smtplib, ssl\n",
    "\n",
    "smtp_server = \"smtp.gmail.com\"\n",
    "port = 587  # For starttls\n",
    "sender_email = \"yasintahsildar@gmail.com\"\n",
    "password = \"77886611\"\n",
    "\n",
    "# Create a secure SSL context\n",
    "context = ssl.create_default_context()\n",
    "\n",
    "\n",
    "# Try to log in to server and send email\n",
    "try:\n",
    "    a = context\n",
    "    server = smtplib.SMTP(smtp_server,port)\n",
    "    server.ehlo() # Can be omitted\n",
    "    server.starttls(context=a) # Secure the connection\n",
    "    server.ehlo() # Can be omitted\n",
    "    server.login(sender_email, password)\n",
    "    # TODO: Send email here\n",
    "    subject = \"new one\"\n",
    "    message = \"message body\"\n",
    "    from_email = None\n",
    "    mail = 'patilrakesh1722'\n",
    "    server.send_mail(subject, message, from_email, [mail])\n",
    "except Exception as e:\n",
    "    # Print any error messages to stdout\n",
    "    print(e)\n",
    "finally:\n",
    "    server.quit() "
   ]
  },
  {
   "cell_type": "code",
   "execution_count": null,
   "metadata": {},
   "outputs": [],
   "source": []
  }
 ],
 "metadata": {
  "kernelspec": {
   "display_name": "Python 2",
   "language": "python",
   "name": "python2"
  },
  "language_info": {
   "codemirror_mode": {
    "name": "ipython",
    "version": 2
   },
   "file_extension": ".py",
   "mimetype": "text/x-python",
   "name": "python",
   "nbconvert_exporter": "python",
   "pygments_lexer": "ipython2",
   "version": "2.7.15+"
  }
 },
 "nbformat": 4,
 "nbformat_minor": 2
}
